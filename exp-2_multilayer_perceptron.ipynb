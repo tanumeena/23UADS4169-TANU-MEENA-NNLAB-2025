{
 "cells": [
  {
   "attachments": {},
   "cell_type": "markdown",
   "metadata": {},
   "source": [
    "Multilayer Perceptron using Step function"
   ]
  },
  {
   "cell_type": "code",
   "execution_count": 16,
   "metadata": {},
   "outputs": [
    {
     "name": "stdout",
     "output_type": "stream",
     "text": [
      "Epoch 0, Loss: 0.5\n",
      "Epoch 100, Loss: 0.25\n",
      "Epoch 200, Loss: 0.25\n",
      "Epoch 300, Loss: 0.5\n",
      "Epoch 400, Loss: 0.25\n",
      "Epoch 500, Loss: 0.25\n",
      "Epoch 600, Loss: 0.5\n",
      "Epoch 700, Loss: 0.25\n",
      "Epoch 800, Loss: 0.25\n",
      "Epoch 900, Loss: 0.5\n",
      "\n",
      "Predictions:\n",
      "[[0]\n",
      " [0]\n",
      " [1]\n",
      " [0]]\n"
     ]
    }
   ],
   "source": [
    "import numpy as np\n",
    "\n",
    "class MLP:\n",
    "    def __init__(self, input_size, hidden_size, output_size, learning_rate=0.1, epochs=1000):\n",
    "        self.input_size = input_size\n",
    "        self.hidden_size = hidden_size\n",
    "        self.output_size = output_size\n",
    "        self.learning_rate = learning_rate\n",
    "        self.epochs = epochs\n",
    "        \n",
    "        # Initialize weights for hidden and output layers\n",
    "        self.weights_input_hidden = np.random.randn(self.input_size, self.hidden_size)\n",
    "        self.weights_hidden_output = np.random.randn(self.hidden_size, self.output_size)\n",
    "        \n",
    "        # Initialize biases for hidden and output layers\n",
    "        self.bias_hidden = np.random.randn(self.hidden_size)\n",
    "        self.bias_output = np.random.randn(self.output_size)\n",
    "\n",
    "    def step_function(self, x):\n",
    "        # Step activation function\n",
    "        return np.where(x >= 0, 1, 0)\n",
    "\n",
    "    def forward(self, X):\n",
    "        # Forward pass: input -> hidden layer -> output layer\n",
    "        self.hidden_input = np.dot(X, self.weights_input_hidden) + self.bias_hidden\n",
    "        self.hidden_output = self.step_function(self.hidden_input)\n",
    "        self.final_input = np.dot(self.hidden_output, self.weights_hidden_output) + self.bias_output\n",
    "        self.final_output = self.step_function(self.final_input)\n",
    "        return self.final_output\n",
    "\n",
    "    def backward(self, X, y):\n",
    "        # Backward pass (Gradient Descent)\n",
    "        output_error = y - self.final_output\n",
    "        hidden_error = np.dot(output_error, self.weights_hidden_output.T) * self.hidden_output * (1 - self.hidden_output)\n",
    "        \n",
    "        # Update weights and biases\n",
    "        self.weights_hidden_output += self.learning_rate * np.dot(self.hidden_output.T, output_error)\n",
    "        self.weights_input_hidden += self.learning_rate * np.dot(X.T, hidden_error)\n",
    "        self.bias_output += self.learning_rate * np.sum(output_error, axis=0)\n",
    "        self.bias_hidden += self.learning_rate * np.sum(hidden_error, axis=0)\n",
    "\n",
    "    def fit(self, X, y):\n",
    "        # Train the network\n",
    "        for epoch in range(self.epochs):\n",
    "            self.forward(X)\n",
    "            self.backward(X, y)\n",
    "            if epoch % 100 == 0:\n",
    "                loss = np.mean(np.square(y - self.final_output))  # Mean Squared Error (MSE)\n",
    "                print(f\"Epoch {epoch}, Loss: {loss}\")\n",
    "\n",
    "    def predict(self, X):\n",
    "        # Predict the output for given input\n",
    "        return self.forward(X)\n",
    "\n",
    "# Example usage:\n",
    "if __name__ == \"__main__\":\n",
    "    # XOR problem (Non-linearly separable - MLP can solve this)\n",
    "    # Training data (inputs)\n",
    "    X = np.array([[0, 0], [0, 1], [1, 0], [1, 1]])\n",
    "    # Labels (outputs)\n",
    "    y = np.array([[0], [1], [1], [0]])\n",
    "\n",
    "    # Create MLP instance\n",
    "    mlp = MLP(input_size=2, hidden_size=4, output_size=1, learning_rate=0.1, epochs=1000)\n",
    "\n",
    "    # Train the model\n",
    "    mlp.fit(X, y)\n",
    "\n",
    "    # Predictions\n",
    "    predictions = mlp.predict(X)\n",
    "    print(\"\\nPredictions:\")\n",
    "    print(predictions)\n"
   ]
  },
  {
   "cell_type": "code",
   "execution_count": null,
   "metadata": {},
   "outputs": [],
   "source": []
  },
  {
   "cell_type": "code",
   "execution_count": null,
   "metadata": {},
   "outputs": [],
   "source": []
  }
 ],
 "metadata": {
  "kernelspec": {
   "display_name": "Python 3",
   "language": "python",
   "name": "python3"
  },
  "language_info": {
   "codemirror_mode": {
    "name": "ipython",
    "version": 3
   },
   "file_extension": ".py",
   "mimetype": "text/x-python",
   "name": "python",
   "nbconvert_exporter": "python",
   "pygments_lexer": "ipython3",
   "version": "3.12.9"
  }
 },
 "nbformat": 4,
 "nbformat_minor": 4
}
